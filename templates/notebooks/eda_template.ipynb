{
 "cells": [
  {
   "cell_type": "markdown",
   "metadata": {},
   "source": [
    "# 📊 EDA (Exploratory Data Analysis)\n",
    "\n",
    "## 目的\n",
    "- データの基本構造を理解\n",
    "- 特徴量の分布・相関を分析\n",
    "- 欠損値・外れ値の特定\n",
    "- モデリング方針の決定"
   ]
  },
  {
   "cell_type": "code",
   "execution_count": null,
   "metadata": {},
   "outputs": [],
   "source": [
    "# 基本ライブラリのインポート\n",
    "import pandas as pd\n",
    "import numpy as np\n",
    "import matplotlib.pyplot as plt\n",
    "import seaborn as sns\n",
    "import plotly.express as px\n",
    "import plotly.graph_objects as go\n",
    "from plotly.subplots import make_subplots\n",
    "\n",
    "# 設定\n",
    "plt.style.use('default')\n",
    "sns.set_palette('husl')\n",
    "pd.set_option('display.max_columns', None)\n",
    "pd.set_option('display.max_rows', 100)\n",
    "\n",
    "import warnings\n",
    "warnings.filterwarnings('ignore')"
   ]
  },
  {
   "cell_type": "code",
   "execution_count": null,
   "metadata": {},
   "outputs": [],
   "source": [
    "# データ読み込み\n",
    "# TODO: ファイルパスを適切に設定\n",
    "df_train = pd.read_csv('../data/train.csv')\n",
    "df_test = pd.read_csv('../data/test.csv')\n",
    "\n",
    "print(f\"Train shape: {df_train.shape}\")\n",
    "print(f\"Test shape: {df_test.shape}\")"
   ]
  },
  {
   "cell_type": "markdown",
   "metadata": {},
   "source": [
    "## 1. データ概要"
   ]
  },
  {
   "cell_type": "code",
   "execution_count": null,
   "metadata": {},
   "outputs": [],
   "source": [
    "# 基本情報\n",
    "display(df_train.head())\n",
    "display(df_train.info())\n",
    "display(df_train.describe())"
   ]
  },
  {
   "cell_type": "markdown",
   "metadata": {},
   "source": [
    "## 2. 欠損値分析"
   ]
  },
  {
   "cell_type": "code",
   "execution_count": null,
   "metadata": {},
   "outputs": [],
   "source": [
    "# 欠損値の可視化\n",
    "def plot_missing_values(df, title):\n",
    "    missing = df.isnull().sum()\n",
    "    missing_pct = missing / len(df) * 100\n",
    "    missing_df = pd.DataFrame({\n",
    "        'column': missing.index,\n",
    "        'missing_count': missing.values,\n",
    "        'missing_percentage': missing_pct.values\n",
    "    })\n",
    "    missing_df = missing_df[missing_df['missing_count'] > 0].sort_values('missing_count', ascending=False)\n",
    "    \n",
    "    if len(missing_df) > 0:\n",
    "        fig = px.bar(missing_df, x='column', y='missing_percentage', \n",
    "                     title=f'{title} - Missing Values (%)')\n",
    "        fig.show()\n",
    "    else:\n",
    "        print(f\"{title}: 欠損値なし\")\n",
    "    \n",
    "    return missing_df\n",
    "\n",
    "missing_train = plot_missing_values(df_train, 'Train')\n",
    "missing_test = plot_missing_values(df_test, 'Test')"
   ]
  },
  {
   "cell_type": "markdown",
   "metadata": {},
   "source": [
    "## 3. ターゲット変数分析"
   ]
  },
  {
   "cell_type": "code",
   "execution_count": null,
   "metadata": {},
   "outputs": [],
   "source": [
    "# TODO: ターゲット変数名を適切に設定\n",
    "target_col = 'target'  # 実際のターゲット変数名に変更\n",
    "\n",
    "if target_col in df_train.columns:\n",
    "    # ターゲット変数の分布\n",
    "    fig, axes = plt.subplots(1, 2, figsize=(15, 5))\n",
    "    \n",
    "    # ヒストグラム\n",
    "    df_train[target_col].hist(bins=50, ax=axes[0])\n",
    "    axes[0].set_title('Target Distribution')\n",
    "    axes[0].set_xlabel(target_col)\n",
    "    \n",
    "    # 統計情報\n",
    "    axes[1].text(0.1, 0.8, f\"Mean: {df_train[target_col].mean():.4f}\")\n",
    "    axes[1].text(0.1, 0.7, f\"Std: {df_train[target_col].std():.4f}\")\n",
    "    axes[1].text(0.1, 0.6, f\"Min: {df_train[target_col].min():.4f}\")\n",
    "    axes[1].text(0.1, 0.5, f\"Max: {df_train[target_col].max():.4f}\")\n",
    "    axes[1].text(0.1, 0.4, f\"Skew: {df_train[target_col].skew():.4f}\")\n",
    "    axes[1].text(0.1, 0.3, f\"Kurtosis: {df_train[target_col].kurtosis():.4f}\")\n",
    "    axes[1].set_xlim(0, 1)\n",
    "    axes[1].set_ylim(0, 1)\n",
    "    axes[1].set_title('Target Statistics')\n",
    "    \n",
    "    plt.tight_layout()\n",
    "    plt.show()\n",
    "else:\n",
    "    print(\"ターゲット変数名を確認してください\")"
   ]
  },
  {
   "cell_type": "markdown",
   "metadata": {},
   "source": [
    "## 4. 特徴量分析"
   ]
  },
  {
   "cell_type": "code",
   "execution_count": null,
   "metadata": {},
   "outputs": [],
   "source": [
    "# 数値特徴量とカテゴリ特徴量の分離\n",
    "numeric_features = df_train.select_dtypes(include=[np.number]).columns.tolist()\n",
    "categorical_features = df_train.select_dtypes(include=['object']).columns.tolist()\n",
    "\n",
    "# ターゲット変数を除外\n",
    "if target_col in numeric_features:\n",
    "    numeric_features.remove(target_col)\n",
    "\n",
    "print(f\"数値特徴量: {len(numeric_features)}個\")\n",
    "print(f\"カテゴリ特徴量: {len(categorical_features)}個\")"
   ]
  },
  {
   "cell_type": "code",
   "execution_count": null,
   "metadata": {},
   "outputs": [],
   "source": [
    "# 数値特徴量の分布\n",
    "if len(numeric_features) > 0:\n",
    "    n_cols = 4\n",
    "    n_rows = (len(numeric_features) + n_cols - 1) // n_cols\n",
    "    \n",
    "    fig, axes = plt.subplots(n_rows, n_cols, figsize=(20, 5 * n_rows))\n",
    "    axes = axes.flatten() if n_rows > 1 else [axes] if n_rows == 1 else axes\n",
    "    \n",
    "    for i, feature in enumerate(numeric_features[:len(axes)]):\n",
    "        df_train[feature].hist(bins=50, ax=axes[i])\n",
    "        axes[i].set_title(f'{feature}')\n",
    "        axes[i].set_xlabel(feature)\n",
    "    \n",
    "    # 余ったサブプロットを非表示\n",
    "    for i in range(len(numeric_features), len(axes)):\n",
    "        axes[i].set_visible(False)\n",
    "    \n",
    "    plt.tight_layout()\n",
    "    plt.show()"
   ]
  },
  {
   "cell_type": "markdown",
   "metadata": {},
   "source": [
    "## 5. 相関分析"
   ]
  },
  {
   "cell_type": "code",
   "execution_count": null,
   "metadata": {},
   "outputs": [],
   "source": [
    "# 数値特徴量の相関マトリックス\n",
    "if len(numeric_features) > 1:\n",
    "    corr_features = numeric_features + ([target_col] if target_col in df_train.columns else [])\n",
    "    correlation_matrix = df_train[corr_features].corr()\n",
    "    \n",
    "    plt.figure(figsize=(12, 10))\n",
    "    sns.heatmap(correlation_matrix, annot=True, cmap='coolwarm', center=0, \n",
    "                square=True, fmt='.2f')\n",
    "    plt.title('Feature Correlation Matrix')\n",
    "    plt.tight_layout()\n",
    "    plt.show()\n",
    "    \n",
    "    # ターゲットとの相関（高い順）\n",
    "    if target_col in df_train.columns:\n",
    "        target_corr = correlation_matrix[target_col].abs().sort_values(ascending=False)\n",
    "        print(\"\\nターゲットとの相関（絶対値、高い順）:\")\n",
    "        print(target_corr.head(10))"
   ]
  },
  {
   "cell_type": "markdown",
   "metadata": {},
   "source": [
    "## 6. カテゴリ特徴量分析"
   ]
  },
  {
   "cell_type": "code",
   "execution_count": null,
   "metadata": {},
   "outputs": [],
   "source": [
    "# カテゴリ特徴量の一意値数\n",
    "if len(categorical_features) > 0:\n",
    "    cat_info = pd.DataFrame({\n",
    "        'feature': categorical_features,\n",
    "        'unique_count': [df_train[col].nunique() for col in categorical_features],\n",
    "        'missing_count': [df_train[col].isnull().sum() for col in categorical_features]\n",
    "    })\n",
    "    cat_info = cat_info.sort_values('unique_count', ascending=False)\n",
    "    display(cat_info)\n",
    "    \n",
    "    # 高カーディナリティ特徴量の確認\n",
    "    high_cardinality = cat_info[cat_info['unique_count'] > 50]['feature'].tolist()\n",
    "    if high_cardinality:\n",
    "        print(f\"\\n高カーディナリティ特徴量 (>50): {high_cardinality}\")"
   ]
  },
  {
   "cell_type": "markdown",
   "metadata": {},
   "source": [
    "## 7. 外れ値検出"
   ]
  },
  {
   "cell_type": "code",
   "execution_count": null,
   "metadata": {},
   "outputs": [],
   "source": [
    "# 数値特徴量の外れ値検出（IQR法）\n",
    "if len(numeric_features) > 0:\n",
    "    outlier_info = []\n",
    "    \n",
    "    for feature in numeric_features:\n",
    "        Q1 = df_train[feature].quantile(0.25)\n",
    "        Q3 = df_train[feature].quantile(0.75)\n",
    "        IQR = Q3 - Q1\n",
    "        lower_bound = Q1 - 1.5 * IQR\n",
    "        upper_bound = Q3 + 1.5 * IQR\n",
    "        \n",
    "        outliers = df_train[(df_train[feature] < lower_bound) | (df_train[feature] > upper_bound)]\n",
    "        outlier_count = len(outliers)\n",
    "        outlier_percentage = outlier_count / len(df_train) * 100\n",
    "        \n",
    "        outlier_info.append({\n",
    "            'feature': feature,\n",
    "            'outlier_count': outlier_count,\n",
    "            'outlier_percentage': outlier_percentage,\n",
    "            'lower_bound': lower_bound,\n",
    "            'upper_bound': upper_bound\n",
    "        })\n",
    "    \n",
    "    outlier_df = pd.DataFrame(outlier_info)\n",
    "    outlier_df = outlier_df.sort_values('outlier_percentage', ascending=False)\n",
    "    display(outlier_df.head(10))"
   ]
  },
  {
   "cell_type": "markdown",
   "metadata": {},
   "source": [
    "## 8. 次のステップ\n",
    "\n",
    "### 発見した特徴\n",
    "- TODO: EDA結果をまとめる\n",
    "\n",
    "### 前処理が必要な項目\n",
    "- TODO: 欠損値処理\n",
    "- TODO: 外れ値処理\n",
    "- TODO: 特徴量エンジニアリング\n",
    "\n",
    "### モデリング方針\n",
    "- TODO: 適用予定のアルゴリズム\n",
    "- TODO: 評価指標の確認\n",
    "- TODO: 交差検証戦略"
   ]
  }
 ],
 "metadata": {
  "kernelspec": {
   "display_name": "Python 3",
   "language": "python",
   "name": "python3"
  },
  "language_info": {
   "codemirror_mode": {
    "name": "ipython",
    "version": 3
   },
   "file_extension": ".py",
   "mimetype": "text/x-python",
   "name": "python",
   "nbconvert_exporter": "python",
   "pygments_lexer": "ipython3",
   "version": "3.9.0"
  }
 },
 "nbformat": 4,
 "nbformat_minor": 4
}